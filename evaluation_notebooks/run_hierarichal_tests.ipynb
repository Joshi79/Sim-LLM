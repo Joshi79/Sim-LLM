{
 "cells": [
  {
   "cell_type": "code",
   "id": "initial_id",
   "metadata": {
    "collapsed": true,
    "ExecuteTime": {
     "end_time": "2025-09-22T23:36:33.701848Z",
     "start_time": "2025-09-22T23:36:30.379396Z"
    }
   },
   "source": [
    "import pandas as pd\n",
    "import numpy as np\n",
    "import pandas as pd\n",
    "from scipy.stats import ks_2samp, mannwhitneyu, chi2_contingency"
   ],
   "outputs": [],
   "execution_count": 2
  },
  {
   "metadata": {},
   "cell_type": "markdown",
   "source": "## Load the Data",
   "id": "d811b04a3fc3d6cf"
  },
  {
   "metadata": {
    "ExecuteTime": {
     "end_time": "2025-09-24T15:22:05.840348Z",
     "start_time": "2025-09-24T15:22:05.401671Z"
    }
   },
   "cell_type": "code",
   "source": [
    "original_data_splits = \"../data/original_training_dataset.csv\"\n",
    "real_test_path = \"../data/test_df.csv\"\n",
    "\n",
    "baseline_synthetic = \"../data/synthetic_data_baseline_prompt.csv\"\n",
    "synthetic_data_no_grounding_synthetic = \"../data/prompt_not_grounded_in_synthetic.csv\"\n",
    "synthetic_data_no_info = \"../data/prompt_no_info_orignal_data.csv\"\n",
    "\n",
    "categorical_cols = [\n",
    "            'numberRating', 'highestRating', 'lowestRating',\n",
    "            'numberLowRating', 'numberMediumRating', 'numberHighRating',\n",
    "            'numberMessageRead', 'readAllMessage', 'numberMessageReceived', \"medianRating\"\n",
    "        ]\n",
    "\n",
    "continuous_cols = ['sdRating']\n",
    "\n",
    "all_columns = categorical_cols + continuous_cols\n",
    "\n",
    "\n",
    "synthetic_df_no_grounding = pd.read_csv(synthetic_data_no_grounding_synthetic)\n",
    "synthetic_df_no_data_info = pd.read_csv(synthetic_data_no_info)\n",
    "synthetic_df = pd.read_csv(baseline_synthetic)\n",
    "real_df_test = pd.read_csv(real_test_path)"
   ],
   "id": "80892f7daa9d8122",
   "outputs": [],
   "execution_count": 12
  },
  {
   "metadata": {},
   "cell_type": "markdown",
   "source": "## Run the hierarchical tests",
   "id": "ff0f901a4ad91417"
  },
  {
   "metadata": {
    "ExecuteTime": {
     "end_time": "2025-09-24T15:22:07.853191Z",
     "start_time": "2025-09-24T15:22:07.804697Z"
    }
   },
   "cell_type": "code",
   "source": [
    "def hierarchical_test(real_df,synthetic_df,columns,alpha= 0.05,categorical_cols=None):\n",
    "    \"\"\"\n",
    "    Perform hierarchical statistical tests to compare distributions of specified columns\n",
    "    \"\"\"\n",
    "    results = []\n",
    "    if categorical_cols is None:\n",
    "        categorical_cols = []\n",
    "\n",
    "    for col in columns:\n",
    "        \n",
    "        real_data = real_df[col].dropna()\n",
    "        synthetic_data = synthetic_df[col].dropna()\n",
    "        \n",
    "        result = {\n",
    "            'Variable': col, 'KS_statistic': np.nan, 'KS_pvalue': np.nan, 'MW_statistic': np.nan,\n",
    "            'MW_pvalue': np.nan, 'Chi2_statistic': np.nan, 'Chi2_pvalue': np.nan\n",
    "        }\n",
    "      \n",
    "        # --- Stage 1: Kolmogorov-Smirnov Test ---\n",
    "        ks_stat, ks_pvalue = ks_2samp(real_data, synthetic_data)\n",
    "        result.update({'KS_statistic': ks_stat, 'KS_pvalue': ks_pvalue})\n",
    "        \n",
    "        if ks_pvalue >= alpha:\n",
    "            result.update({'Test_Passed': 'KS', 'Final_pvalue': ks_pvalue, 'Significant_Difference': False})\n",
    "            results.append(result)\n",
    "            continue\n",
    "\n",
    "        # --- Stage 2: Mann-Whitney U Test (if KS fails) ---\n",
    "        mwu_stat, mwu_pvalue = mannwhitneyu(real_data, synthetic_data)\n",
    "        result.update({'MW_statistic': mwu_stat, 'MW_pvalue': mwu_pvalue})\n",
    "        \n",
    "        if mwu_pvalue >= alpha:\n",
    "            result.update({'Test_Passed': 'Mann-Whitney', 'Final_pvalue': mwu_pvalue, 'Significant_Difference': False})\n",
    "            results.append(result)\n",
    "            continue\n",
    "            \n",
    "        # --- Stage 3: Chi-Square Test ---\n",
    "        if col in categorical_cols:\n",
    "            contingency_table = pd.crosstab(pd.concat([real_data, synthetic_data]),['real'] * len(real_data) + ['synth'] * len(synthetic_data)\n",
    "            )\n",
    "            try:\n",
    "                chi2_stat, pvalue, _, _ = chi2_contingency(contingency_table)\n",
    "                result.update({'Chi2_statistic': chi2_stat, 'Chi2_pvalue': pvalue})\n",
    "                if pvalue >= alpha:\n",
    "                    result.update({'Test_Passed': 'Chi-Square', 'Final_pvalue': pvalue, 'Significant_Difference': False})\n",
    "                else:\n",
    "                    result.update({'Test_Passed': 'None', 'Final_pvalue': pvalue, 'Significant_Difference': True})\n",
    "            except ValueError:\n",
    "                result.update({'Test_Passed': 'Error', 'Final_pvalue': mwu_pvalue, 'Significant_Difference': True})\n",
    "        else:\n",
    "            result.update({'Test_Passed': 'None', 'Final_pvalue': mwu_pvalue, 'Significant_Difference': True})\n",
    "        \n",
    "        results.append(result)\n",
    "        \n",
    "        result_table = pd.DataFrame(results)\n",
    "        \n",
    "    return result_table"
   ],
   "id": "b07561064beae81",
   "outputs": [],
   "execution_count": 13
  },
  {
   "metadata": {
    "ExecuteTime": {
     "end_time": "2025-09-24T15:22:11.750706Z",
     "start_time": "2025-09-24T15:22:08.871341Z"
    }
   },
   "cell_type": "code",
   "source": [
    "results_synthetic = hierarchical_test(real_df_test, synthetic_df, all_columns, categorical_cols=categorical_cols)\n",
    "results_synthetic_no_grounding = hierarchical_test(real_df_test, synthetic_df_no_grounding, all_columns, categorical_cols=categorical_cols)\n",
    "results_synthetic_no_info = hierarchical_test(real_df_test, synthetic_df_no_data_info, all_columns, categorical_cols=categorical_cols)"
   ],
   "id": "414f7c9dd2103664",
   "outputs": [],
   "execution_count": 14
  },
  {
   "metadata": {},
   "cell_type": "markdown",
   "source": "",
   "id": "46fb87f5fa29cbba"
  }
 ],
 "metadata": {
  "kernelspec": {
   "display_name": "Python 3",
   "language": "python",
   "name": "python3"
  },
  "language_info": {
   "codemirror_mode": {
    "name": "ipython",
    "version": 2
   },
   "file_extension": ".py",
   "mimetype": "text/x-python",
   "name": "python",
   "nbconvert_exporter": "python",
   "pygments_lexer": "ipython2",
   "version": "2.7.6"
  }
 },
 "nbformat": 4,
 "nbformat_minor": 5
}
