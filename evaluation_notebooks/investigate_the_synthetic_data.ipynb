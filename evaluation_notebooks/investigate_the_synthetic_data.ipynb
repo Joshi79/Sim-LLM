{
 "cells": [
  {
   "cell_type": "code",
   "id": "initial_id",
   "metadata": {
    "collapsed": true,
    "ExecuteTime": {
     "end_time": "2025-09-24T08:59:20.054861Z",
     "start_time": "2025-09-24T08:59:20.044320Z"
    }
   },
   "source": [
    "import pandas as pd\n",
    "import numpy as np\n",
    "\n",
    "import pandas as pd\n",
    "import numpy as np\n",
    "import matplotlib.pyplot as plt\n",
    "import seaborn as sns\n",
    "import ast\n",
    "import warnings"
   ],
   "execution_count": 1,
   "outputs": []
  },
  {
   "metadata": {},
   "cell_type": "markdown",
   "source": "### Load the data",
   "id": "b2306ccbdc521204"
  },
  {
   "metadata": {},
   "cell_type": "code",
   "execution_count": null,
   "source": [
    "output_file=r\"../data/synthetic_data_baseline_prompt.csv.csv\"\n",
    "\n",
    "def load_data(output_file, latency_file=None):\n",
    "    \"\"\"Load the CSV files.\"\"\"\n",
    "    df_output = pd.read_csv(output_file)\n",
    "    \n",
    "    if latency_file:\n",
    "        df_latency = pd.read_csv(latency_file)\n",
    "    else:\n",
    "        df_latency = None\n",
    "    \n",
    "    print(\"=== DATA OVERVIEW ===\")\n",
    "    print(f\"Total records: {len(df_output)}\")\n",
    "    print(f\"Total users: {df_output['user_id'].nunique()}\")\n",
    "    print(f\"Actions: {sorted(df_output['rl_action'].unique())}\\n\")\n",
    "    \n",
    "    return df_output, df_latency\n",
    "\n",
    "# %%\n",
    "def parse_ratings(rating_str):\n",
    "    \"\"\"Parse rating string to list.\"\"\"\n",
    "    try:\n",
    "        ratings = ast.literal_eval(rating_str)\n",
    "        return ratings if ratings else []\n",
    "    except:\n",
    "        return []\n",
    "\n",
    "def prepare_rating_data_for_boxplot(df):\n",
    "    \"\"\"Prepare rating data for boxplot visualization.\"\"\"\n",
    "    rating_data = []\n",
    "    \n",
    "    for _, row in df.iterrows():\n",
    "        ratings = parse_ratings(row['actual_rating'])\n",
    "        action = row['rl_action']\n",
    "        \n",
    "        for rating in ratings:\n",
    "            rating_data.append({\n",
    "                'action': action,\n",
    "                'rating': rating\n",
    "            })\n",
    "    \n",
    "    return pd.DataFrame(rating_data)"
   ],
   "id": "240e34494a64bbf8",
   "outputs": []
  }
 ],
 "metadata": {
  "kernelspec": {
   "display_name": "Python 3",
   "language": "python",
   "name": "python3"
  },
  "language_info": {
   "codemirror_mode": {
    "name": "ipython",
    "version": 2
   },
   "file_extension": ".py",
   "mimetype": "text/x-python",
   "name": "python",
   "nbconvert_exporter": "python",
   "pygments_lexer": "ipython2",
   "version": "2.7.6"
  }
 },
 "nbformat": 4,
 "nbformat_minor": 5
}
