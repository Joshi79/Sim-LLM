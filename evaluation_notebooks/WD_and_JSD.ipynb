{
 "cells": [
  {
   "cell_type": "code",
   "id": "initial_id",
   "metadata": {
    "collapsed": true,
    "ExecuteTime": {
     "end_time": "2025-09-26T10:07:30.300454Z",
     "start_time": "2025-09-26T10:07:30.290562Z"
    }
   },
   "source": [
    "import pandas as pd\n",
    "import numpy as np\n",
    "from scipy.stats import wasserstein_distance\n",
    "from scipy.spatial.distance import jensenshannon\n"
   ],
   "outputs": [],
   "execution_count": 7
  },
  {
   "metadata": {},
   "cell_type": "markdown",
   "source": "# Load the data",
   "id": "5293754d03c1d16"
  },
  {
   "metadata": {
    "ExecuteTime": {
     "end_time": "2025-09-26T12:51:39.281985Z",
     "start_time": "2025-09-26T12:51:38.036899Z"
    }
   },
   "cell_type": "code",
   "source": [
    "original_data_splits = \"../data/original_training_dataset.csv\"\n",
    "real_test_path = \"../data/test_df.csv\"\n",
    "\n",
    "baseline_synthetic = \"../data/synthetic_data_baseline_prompt.csv\"\n",
    "synthetic_data_no_grounding_synthetic = \"../data/prompt_not_grounded_in_synthetic.csv\"\n",
    "synthetic_data_no_info = \"../data/prompt_no_info_orignal_data.csv\"\n",
    "original_data =\"../data/original_training_dataset.csv\"\n",
    "\n",
    "\n",
    "categorical_cols = [\n",
    "            'numberRating', 'highestRating', 'lowestRating','medianRating'\n",
    "            'numberLowRating', 'numberMediumRating', 'numberHighRating',\n",
    "            'numberMessageRead', 'readAllMessage', 'numberMessageReceived', \n",
    "        ]\n",
    "\n",
    "continuous_cols = ['sdRating']\n",
    "\n",
    "ordinal_cols = ['highestRating','lowestRating']\n",
    "\n",
    "# all columns \n",
    "all_columns = categorical_cols + continuous_cols\n",
    "\n",
    "\n",
    "synthetic_df = pd.read_csv(baseline_synthetic)\n",
    "synthetic_df_no_orignal_inofs = pd.read_csv(synthetic_data_no_info)\n",
    "synthetic_df_no_grounding = pd.read_csv(synthetic_data_no_grounding_synthetic)\n",
    "real_df_test = pd.read_csv(real_test_path)\n",
    "real_df_original = pd.read_csv(original_data_splits)\n"
   ],
   "id": "a8385f3584a7dae7",
   "outputs": [],
   "execution_count": 15
  },
  {
   "metadata": {},
   "cell_type": "markdown",
   "source": "### Calculate the Wasserstein Distance",
   "id": "65f24a187c75d5c3"
  },
  {
   "metadata": {
    "ExecuteTime": {
     "end_time": "2025-09-26T13:13:18.559132Z",
     "start_time": "2025-09-26T13:13:18.530879Z"
    }
   },
   "cell_type": "code",
   "source": [
    "def calculate_wasserstein_distances(real_df, synthetic_df, continuous_cols, ordinal_cols):\n",
    "    \"\"\"Calculate Wasserstein-1 distances for continuous and ordinal columns.\"\"\"\n",
    "    results = []\n",
    "\n",
    "    # Calculate Wasserstein-1 Distance for continuous columns\n",
    "    for col in continuous_cols:\n",
    "        dist = wasserstein_distance(real_df[col], synthetic_df[col])\n",
    "        results.append({\n",
    "            'Column': col,\n",
    "            'Type': 'Continuous',\n",
    "            'Metric': 'Wasserstein-1',\n",
    "            'Value': dist\n",
    "        })\n",
    "        \n",
    "    # Calculate Wasserstein-1 Distance for ordinal columns with proper support\n",
    "    for col in ordinal_cols:\n",
    "        vc_synthetic = synthetic_df[col].value_counts()\n",
    "        vc_original = real_df[col].value_counts()\n",
    "        \n",
    "        support = sorted(set(vc_synthetic.index).union(vc_original.index))\n",
    "        \n",
    "        u_vals = np.array(support, dtype=float)\n",
    "        v_vals = np.array(support, dtype=float)\n",
    "        \n",
    "        u_weights = np.array([vc_original.get(x, 0) for x in support], dtype=float)\n",
    "        v_weights = np.array([vc_synthetic.get(x, 0) for x in support], dtype=float)\n",
    "        \n",
    "            \n",
    "        dist = wasserstein_distance(u_vals, v_vals, u_weights=u_weights, v_weights=v_weights)\n",
    "        \n",
    "        results.append({\n",
    "            'Column': col,\n",
    "            'Type': 'Ordinal',\n",
    "            'Metric': 'Wasserstein-1',\n",
    "            'Value': dist,\n",
    "            'Support_Size': len(support),\n",
    "            'Original_Count': int(vc_original.sum()),\n",
    "            'Synthetic_Count': int(vc_synthetic.sum())\n",
    "        })\n",
    "        \n",
    "    results  = pd.DataFrame(results)\n",
    "        \n",
    "        \n",
    "    \n",
    "    return results"
   ],
   "id": "cb97fd6e15cb8218",
   "outputs": [],
   "execution_count": 28
  },
  {
   "metadata": {
    "ExecuteTime": {
     "end_time": "2025-09-26T12:52:47.948322Z",
     "start_time": "2025-09-26T12:52:47.903305Z"
    }
   },
   "cell_type": "code",
   "source": [
    "original_synthetic = calculate_wasserstein_distances(synthetic_df, real_df_original, continuous_cols, ordinal_cols)\n",
    "print(f\"Mean = {original_synthetic['Value'].mean()} and Std = {original_synthetic['Value'].std()}\")\n"
   ],
   "id": "da3826394bea0eab",
   "outputs": [
    {
     "name": "stdout",
     "output_type": "stream",
     "text": [
      "Mean = 1.2488828426330687 and Std = 0.7063936015288309\n"
     ]
    }
   ],
   "execution_count": 21
  },
  {
   "metadata": {
    "ExecuteTime": {
     "end_time": "2025-09-26T12:52:49.344834Z",
     "start_time": "2025-09-26T12:52:49.306925Z"
    }
   },
   "cell_type": "code",
   "source": "original_synthetic",
   "id": "ae0b3483594b4bac",
   "outputs": [
    {
     "data": {
      "text/plain": [
       "          Column        Type         Metric     Value  Support_Size  \\\n",
       "0       sdRating  Continuous  Wasserstein-1  0.479629           NaN   \n",
       "1  highestRating     Ordinal  Wasserstein-1  1.868410           8.0   \n",
       "2   lowestRating     Ordinal  Wasserstein-1  1.398610           8.0   \n",
       "\n",
       "   Original_Count  Synthetic_Count  \n",
       "0             NaN              NaN  \n",
       "1          9000.0           1435.0  \n",
       "2          9000.0           1435.0  "
      ],
      "text/html": [
       "<div>\n",
       "<style scoped>\n",
       "    .dataframe tbody tr th:only-of-type {\n",
       "        vertical-align: middle;\n",
       "    }\n",
       "\n",
       "    .dataframe tbody tr th {\n",
       "        vertical-align: top;\n",
       "    }\n",
       "\n",
       "    .dataframe thead th {\n",
       "        text-align: right;\n",
       "    }\n",
       "</style>\n",
       "<table border=\"1\" class=\"dataframe\">\n",
       "  <thead>\n",
       "    <tr style=\"text-align: right;\">\n",
       "      <th></th>\n",
       "      <th>Column</th>\n",
       "      <th>Type</th>\n",
       "      <th>Metric</th>\n",
       "      <th>Value</th>\n",
       "      <th>Support_Size</th>\n",
       "      <th>Original_Count</th>\n",
       "      <th>Synthetic_Count</th>\n",
       "    </tr>\n",
       "  </thead>\n",
       "  <tbody>\n",
       "    <tr>\n",
       "      <th>0</th>\n",
       "      <td>sdRating</td>\n",
       "      <td>Continuous</td>\n",
       "      <td>Wasserstein-1</td>\n",
       "      <td>0.479629</td>\n",
       "      <td>NaN</td>\n",
       "      <td>NaN</td>\n",
       "      <td>NaN</td>\n",
       "    </tr>\n",
       "    <tr>\n",
       "      <th>1</th>\n",
       "      <td>highestRating</td>\n",
       "      <td>Ordinal</td>\n",
       "      <td>Wasserstein-1</td>\n",
       "      <td>1.868410</td>\n",
       "      <td>8.0</td>\n",
       "      <td>9000.0</td>\n",
       "      <td>1435.0</td>\n",
       "    </tr>\n",
       "    <tr>\n",
       "      <th>2</th>\n",
       "      <td>lowestRating</td>\n",
       "      <td>Ordinal</td>\n",
       "      <td>Wasserstein-1</td>\n",
       "      <td>1.398610</td>\n",
       "      <td>8.0</td>\n",
       "      <td>9000.0</td>\n",
       "      <td>1435.0</td>\n",
       "    </tr>\n",
       "  </tbody>\n",
       "</table>\n",
       "</div>"
      ]
     },
     "execution_count": 22,
     "metadata": {},
     "output_type": "execute_result"
    }
   ],
   "execution_count": 22
  },
  {
   "metadata": {
    "ExecuteTime": {
     "end_time": "2025-09-26T12:52:53.238079Z",
     "start_time": "2025-09-26T12:52:53.215921Z"
    }
   },
   "cell_type": "code",
   "source": [
    "no_grounding = calculate_wasserstein_distances(real_df_original, synthetic_df_no_grounding, continuous_cols, ordinal_cols)\n",
    "no_grounding\n",
    "print(f\"Mean = {no_grounding['Value'].mean()} and Std = {no_grounding['Value'].std()}\")\n"
   ],
   "id": "893b1cb39d81d448",
   "outputs": [
    {
     "name": "stdout",
     "output_type": "stream",
     "text": [
      "Mean = 1.05093648106815 and Std = 0.802098926623282\n"
     ]
    }
   ],
   "execution_count": 23
  },
  {
   "metadata": {
    "ExecuteTime": {
     "end_time": "2025-09-26T12:53:04.759896Z",
     "start_time": "2025-09-26T12:53:04.720619Z"
    }
   },
   "cell_type": "code",
   "source": "no_grounding",
   "id": "93b15c50819220a1",
   "outputs": [
    {
     "data": {
      "text/plain": [
       "          Column        Type         Metric     Value  Support_Size  \\\n",
       "0       sdRating  Continuous  Wasserstein-1  0.128977           NaN   \n",
       "1  highestRating     Ordinal  Wasserstein-1  1.588443           8.0   \n",
       "2   lowestRating     Ordinal  Wasserstein-1  1.435389           8.0   \n",
       "\n",
       "   Original_Count  Synthetic_Count  \n",
       "0             NaN              NaN  \n",
       "1          1435.0           9000.0  \n",
       "2          1435.0           9000.0  "
      ],
      "text/html": [
       "<div>\n",
       "<style scoped>\n",
       "    .dataframe tbody tr th:only-of-type {\n",
       "        vertical-align: middle;\n",
       "    }\n",
       "\n",
       "    .dataframe tbody tr th {\n",
       "        vertical-align: top;\n",
       "    }\n",
       "\n",
       "    .dataframe thead th {\n",
       "        text-align: right;\n",
       "    }\n",
       "</style>\n",
       "<table border=\"1\" class=\"dataframe\">\n",
       "  <thead>\n",
       "    <tr style=\"text-align: right;\">\n",
       "      <th></th>\n",
       "      <th>Column</th>\n",
       "      <th>Type</th>\n",
       "      <th>Metric</th>\n",
       "      <th>Value</th>\n",
       "      <th>Support_Size</th>\n",
       "      <th>Original_Count</th>\n",
       "      <th>Synthetic_Count</th>\n",
       "    </tr>\n",
       "  </thead>\n",
       "  <tbody>\n",
       "    <tr>\n",
       "      <th>0</th>\n",
       "      <td>sdRating</td>\n",
       "      <td>Continuous</td>\n",
       "      <td>Wasserstein-1</td>\n",
       "      <td>0.128977</td>\n",
       "      <td>NaN</td>\n",
       "      <td>NaN</td>\n",
       "      <td>NaN</td>\n",
       "    </tr>\n",
       "    <tr>\n",
       "      <th>1</th>\n",
       "      <td>highestRating</td>\n",
       "      <td>Ordinal</td>\n",
       "      <td>Wasserstein-1</td>\n",
       "      <td>1.588443</td>\n",
       "      <td>8.0</td>\n",
       "      <td>1435.0</td>\n",
       "      <td>9000.0</td>\n",
       "    </tr>\n",
       "    <tr>\n",
       "      <th>2</th>\n",
       "      <td>lowestRating</td>\n",
       "      <td>Ordinal</td>\n",
       "      <td>Wasserstein-1</td>\n",
       "      <td>1.435389</td>\n",
       "      <td>8.0</td>\n",
       "      <td>1435.0</td>\n",
       "      <td>9000.0</td>\n",
       "    </tr>\n",
       "  </tbody>\n",
       "</table>\n",
       "</div>"
      ]
     },
     "execution_count": 24,
     "metadata": {},
     "output_type": "execute_result"
    }
   ],
   "execution_count": 24
  },
  {
   "metadata": {
    "ExecuteTime": {
     "end_time": "2025-09-26T12:53:13.345506Z",
     "start_time": "2025-09-26T12:53:13.309383Z"
    }
   },
   "cell_type": "code",
   "source": [
    "no_dataset_info = calculate_wasserstein_distances(real_df_original, synthetic_df_no_orignal_inofs, continuous_cols, ordinal_cols)\n",
    "print(f\"Mean = {no_dataset_info['Value'].mean()} and Std = {no_dataset_info['Value'].std()}\")"
   ],
   "id": "d874dce3a3d861d9",
   "outputs": [
    {
     "name": "stdout",
     "output_type": "stream",
     "text": [
      "Mean = 1.8871312616788731 and Std = 1.2241796397875535\n"
     ]
    }
   ],
   "execution_count": 25
  },
  {
   "metadata": {},
   "cell_type": "markdown",
   "source": "### Calculate the Jensen-Shannon Distance ",
   "id": "467b79257396d4e1"
  },
  {
   "metadata": {
    "ExecuteTime": {
     "end_time": "2025-09-26T12:53:41.987232Z",
     "start_time": "2025-09-26T12:53:41.971531Z"
    }
   },
   "cell_type": "code",
   "source": [
    "def calculate_jensen_shannon_distances(real_df, synthetic_df,categorical_cols):\n",
    "    \"\"\"Calculate Jensen-Shannon distances for categorical columns only.\"\"\"\n",
    "    results = []\n",
    "\n",
    "    # Calculate Jensen-Shannon Distance for categorical columns\n",
    "    for col in categorical_cols:\n",
    "        # Get value counts and normalize to probabilities\n",
    "        p = real_df[col].value_counts(normalize=True)\n",
    "        q = synthetic_df[col].value_counts(normalize=True)\n",
    "\n",
    "        # Align the distributions\n",
    "        all_categories = sorted(list(set(p.index) | set(q.index)))\n",
    "        p_aligned = p.reindex(all_categories, fill_value=0)\n",
    "        q_aligned = q.reindex(all_categories, fill_value=0)\n",
    "\n",
    "        # Calculate Jensen-Shannon Distance (square root of divergence)\n",
    "        js_distance = jensenshannon(p_aligned, q_aligned, base=2)\n",
    "        results.append({\n",
    "            'Column': col,\n",
    "            'Type': 'Categorical',\n",
    "            'Metric': 'Jensen-Shannon Distance',\n",
    "            'Value': js_distance\n",
    "        })\n",
    "        print(f\"Jensen-Shannon distance for {col}: {js_distance:.6f}\")\n",
    "\n",
    "    return pd.DataFrame(results)"
   ],
   "id": "4f98f77409ba20b2",
   "outputs": [],
   "execution_count": 26
  },
  {
   "metadata": {
    "ExecuteTime": {
     "end_time": "2025-09-26T12:53:47.516175Z",
     "start_time": "2025-09-26T12:53:43.259246Z"
    }
   },
   "cell_type": "code",
   "source": [
    "original_synthetic_js = calculate_jensen_shannon_distances(real_df_test, synthetic_df, categorical_cols)\n",
    "original_synthetic_js[\"Value\"].mean()\n",
    "print(f\"Mean = {original_synthetic_js[\"Value\"].mean()} and Std = {original_synthetic_js[\"Value\"].std()}\")\n"
   ],
   "id": "e561090d963f44e",
   "outputs": [
    {
     "name": "stdout",
     "output_type": "stream",
     "text": [
      "Jensen-Shannon distance for numberRating: 0.369735\n",
      "Jensen-Shannon distance for highestRating: 0.497747\n",
      "Jensen-Shannon distance for lowestRating: 0.686265\n"
     ]
    },
    {
     "ename": "KeyError",
     "evalue": "'medianRatingnumberLowRating'",
     "output_type": "error",
     "traceback": [
      "\u001B[31m---------------------------------------------------------------------------\u001B[39m",
      "\u001B[31mKeyError\u001B[39m                                  Traceback (most recent call last)",
      "\u001B[36mFile \u001B[39m\u001B[32m~\\PycharmProjects\\master_thesis\\.venv\\Lib\\site-packages\\pandas\\core\\indexes\\base.py:3805\u001B[39m, in \u001B[36mIndex.get_loc\u001B[39m\u001B[34m(self, key)\u001B[39m\n\u001B[32m   3804\u001B[39m \u001B[38;5;28;01mtry\u001B[39;00m:\n\u001B[32m-> \u001B[39m\u001B[32m3805\u001B[39m     \u001B[38;5;28;01mreturn\u001B[39;00m \u001B[38;5;28;43mself\u001B[39;49m\u001B[43m.\u001B[49m\u001B[43m_engine\u001B[49m\u001B[43m.\u001B[49m\u001B[43mget_loc\u001B[49m\u001B[43m(\u001B[49m\u001B[43mcasted_key\u001B[49m\u001B[43m)\u001B[49m\n\u001B[32m   3806\u001B[39m \u001B[38;5;28;01mexcept\u001B[39;00m \u001B[38;5;167;01mKeyError\u001B[39;00m \u001B[38;5;28;01mas\u001B[39;00m err:\n",
      "\u001B[36mFile \u001B[39m\u001B[32mindex.pyx:167\u001B[39m, in \u001B[36mpandas._libs.index.IndexEngine.get_loc\u001B[39m\u001B[34m()\u001B[39m\n",
      "\u001B[36mFile \u001B[39m\u001B[32mindex.pyx:196\u001B[39m, in \u001B[36mpandas._libs.index.IndexEngine.get_loc\u001B[39m\u001B[34m()\u001B[39m\n",
      "\u001B[36mFile \u001B[39m\u001B[32mpandas\\\\_libs\\\\hashtable_class_helper.pxi:7081\u001B[39m, in \u001B[36mpandas._libs.hashtable.PyObjectHashTable.get_item\u001B[39m\u001B[34m()\u001B[39m\n",
      "\u001B[36mFile \u001B[39m\u001B[32mpandas\\\\_libs\\\\hashtable_class_helper.pxi:7089\u001B[39m, in \u001B[36mpandas._libs.hashtable.PyObjectHashTable.get_item\u001B[39m\u001B[34m()\u001B[39m\n",
      "\u001B[31mKeyError\u001B[39m: 'medianRatingnumberLowRating'",
      "\nThe above exception was the direct cause of the following exception:\n",
      "\u001B[31mKeyError\u001B[39m                                  Traceback (most recent call last)",
      "\u001B[36mCell\u001B[39m\u001B[36m \u001B[39m\u001B[32mIn[27]\u001B[39m\u001B[32m, line 1\u001B[39m\n\u001B[32m----> \u001B[39m\u001B[32m1\u001B[39m original_synthetic_js = \u001B[43mcalculate_jensen_shannon_distances\u001B[49m\u001B[43m(\u001B[49m\u001B[43mreal_df_test\u001B[49m\u001B[43m,\u001B[49m\u001B[43m \u001B[49m\u001B[43msynthetic_df\u001B[49m\u001B[43m,\u001B[49m\u001B[43m \u001B[49m\u001B[43mcategorical_cols\u001B[49m\u001B[43m)\u001B[49m\n\u001B[32m      2\u001B[39m original_synthetic_js[\u001B[33m\"\u001B[39m\u001B[33mValue\u001B[39m\u001B[33m\"\u001B[39m].mean()\n\u001B[32m      3\u001B[39m \u001B[38;5;28mprint\u001B[39m(\u001B[33mf\u001B[39m\u001B[33m\"\u001B[39m\u001B[33mMean = \u001B[39m\u001B[38;5;132;01m{\u001B[39;00moriginal_synthetic_js[\u001B[33m\"\u001B[39m\u001B[33mValue\u001B[39m\u001B[33m\"\u001B[39m].mean()\u001B[38;5;132;01m}\u001B[39;00m\u001B[33m and Std = \u001B[39m\u001B[38;5;132;01m{\u001B[39;00moriginal_synthetic_js[\u001B[33m\"\u001B[39m\u001B[33mValue\u001B[39m\u001B[33m\"\u001B[39m].std()\u001B[38;5;132;01m}\u001B[39;00m\u001B[33m\"\u001B[39m)\n",
      "\u001B[36mCell\u001B[39m\u001B[36m \u001B[39m\u001B[32mIn[26]\u001B[39m\u001B[32m, line 8\u001B[39m, in \u001B[36mcalculate_jensen_shannon_distances\u001B[39m\u001B[34m(real_df, synthetic_df, categorical_cols)\u001B[39m\n\u001B[32m      5\u001B[39m \u001B[38;5;66;03m# Calculate Jensen-Shannon Distance for categorical columns\u001B[39;00m\n\u001B[32m      6\u001B[39m \u001B[38;5;28;01mfor\u001B[39;00m col \u001B[38;5;129;01min\u001B[39;00m categorical_cols:\n\u001B[32m      7\u001B[39m     \u001B[38;5;66;03m# Get value counts and normalize to probabilities\u001B[39;00m\n\u001B[32m----> \u001B[39m\u001B[32m8\u001B[39m     p = \u001B[43mreal_df\u001B[49m\u001B[43m[\u001B[49m\u001B[43mcol\u001B[49m\u001B[43m]\u001B[49m.value_counts(normalize=\u001B[38;5;28;01mTrue\u001B[39;00m)\n\u001B[32m      9\u001B[39m     q = synthetic_df[col].value_counts(normalize=\u001B[38;5;28;01mTrue\u001B[39;00m)\n\u001B[32m     11\u001B[39m     \u001B[38;5;66;03m# Align the distributions\u001B[39;00m\n",
      "\u001B[36mFile \u001B[39m\u001B[32m~\\PycharmProjects\\master_thesis\\.venv\\Lib\\site-packages\\pandas\\core\\frame.py:4102\u001B[39m, in \u001B[36mDataFrame.__getitem__\u001B[39m\u001B[34m(self, key)\u001B[39m\n\u001B[32m   4100\u001B[39m \u001B[38;5;28;01mif\u001B[39;00m \u001B[38;5;28mself\u001B[39m.columns.nlevels > \u001B[32m1\u001B[39m:\n\u001B[32m   4101\u001B[39m     \u001B[38;5;28;01mreturn\u001B[39;00m \u001B[38;5;28mself\u001B[39m._getitem_multilevel(key)\n\u001B[32m-> \u001B[39m\u001B[32m4102\u001B[39m indexer = \u001B[38;5;28;43mself\u001B[39;49m\u001B[43m.\u001B[49m\u001B[43mcolumns\u001B[49m\u001B[43m.\u001B[49m\u001B[43mget_loc\u001B[49m\u001B[43m(\u001B[49m\u001B[43mkey\u001B[49m\u001B[43m)\u001B[49m\n\u001B[32m   4103\u001B[39m \u001B[38;5;28;01mif\u001B[39;00m is_integer(indexer):\n\u001B[32m   4104\u001B[39m     indexer = [indexer]\n",
      "\u001B[36mFile \u001B[39m\u001B[32m~\\PycharmProjects\\master_thesis\\.venv\\Lib\\site-packages\\pandas\\core\\indexes\\base.py:3812\u001B[39m, in \u001B[36mIndex.get_loc\u001B[39m\u001B[34m(self, key)\u001B[39m\n\u001B[32m   3807\u001B[39m     \u001B[38;5;28;01mif\u001B[39;00m \u001B[38;5;28misinstance\u001B[39m(casted_key, \u001B[38;5;28mslice\u001B[39m) \u001B[38;5;129;01mor\u001B[39;00m (\n\u001B[32m   3808\u001B[39m         \u001B[38;5;28misinstance\u001B[39m(casted_key, abc.Iterable)\n\u001B[32m   3809\u001B[39m         \u001B[38;5;129;01mand\u001B[39;00m \u001B[38;5;28many\u001B[39m(\u001B[38;5;28misinstance\u001B[39m(x, \u001B[38;5;28mslice\u001B[39m) \u001B[38;5;28;01mfor\u001B[39;00m x \u001B[38;5;129;01min\u001B[39;00m casted_key)\n\u001B[32m   3810\u001B[39m     ):\n\u001B[32m   3811\u001B[39m         \u001B[38;5;28;01mraise\u001B[39;00m InvalidIndexError(key)\n\u001B[32m-> \u001B[39m\u001B[32m3812\u001B[39m     \u001B[38;5;28;01mraise\u001B[39;00m \u001B[38;5;167;01mKeyError\u001B[39;00m(key) \u001B[38;5;28;01mfrom\u001B[39;00m\u001B[38;5;250m \u001B[39m\u001B[34;01merr\u001B[39;00m\n\u001B[32m   3813\u001B[39m \u001B[38;5;28;01mexcept\u001B[39;00m \u001B[38;5;167;01mTypeError\u001B[39;00m:\n\u001B[32m   3814\u001B[39m     \u001B[38;5;66;03m# If we have a listlike key, _check_indexing_error will raise\u001B[39;00m\n\u001B[32m   3815\u001B[39m     \u001B[38;5;66;03m#  InvalidIndexError. Otherwise we fall through and re-raise\u001B[39;00m\n\u001B[32m   3816\u001B[39m     \u001B[38;5;66;03m#  the TypeError.\u001B[39;00m\n\u001B[32m   3817\u001B[39m     \u001B[38;5;28mself\u001B[39m._check_indexing_error(key)\n",
      "\u001B[31mKeyError\u001B[39m: 'medianRatingnumberLowRating'"
     ]
    }
   ],
   "execution_count": 27
  },
  {
   "metadata": {
    "ExecuteTime": {
     "end_time": "2025-09-19T09:15:37.344460Z",
     "start_time": "2025-09-19T09:15:37.287589Z"
    }
   },
   "cell_type": "code",
   "source": [
    "no_grounding_js = calculate_jensen_shannon_distances(real_df_test, synthetic_df_no_grounding, categorical_cols)\n",
    "print(f\"Mean = {no_grounding_js[\"Value\"].mean()} and Std = {no_grounding_js[\"Value\"].std()}\")"
   ],
   "id": "7e13820a87773a47",
   "outputs": [
    {
     "name": "stdout",
     "output_type": "stream",
     "text": [
      "Jensen-Shannon distance for numberRating: 0.405947\n",
      "Jensen-Shannon distance for numberLowRating: 0.143579\n",
      "Jensen-Shannon distance for numberMediumRating: 0.403245\n",
      "Jensen-Shannon distance for numberHighRating: 0.453409\n",
      "Jensen-Shannon distance for numberMessageRead: 0.090069\n",
      "Jensen-Shannon distance for readAllMessage: 0.224013\n",
      "Jensen-Shannon distance for numberMessageReceived: 0.021710\n",
      "Jensen-Shannon distance for medianRating: 0.738945\n",
      "Mean = 0.3101145322400702 and Std = 0.23574536924452766\n"
     ]
    }
   ],
   "execution_count": 122
  },
  {
   "metadata": {
    "ExecuteTime": {
     "end_time": "2025-09-19T20:49:44.190138Z",
     "start_time": "2025-09-19T20:49:44.126676Z"
    }
   },
   "cell_type": "code",
   "source": [
    "no_dataset_info_js = calculate_jensen_shannon_distances(real_df_test, synthetic_df_no_dataset_info, categorical_cols)\n",
    "print(f\"Mean = {no_dataset_info_js[\"Value\"].mean()} and Std = {no_dataset_info_js[\"Value\"].std()}\")"
   ],
   "id": "1505e739c3d10972",
   "outputs": [
    {
     "name": "stdout",
     "output_type": "stream",
     "text": [
      "Jensen-Shannon distance for numberRating: 0.725772\n",
      "Jensen-Shannon distance for numberLowRating: 0.222124\n",
      "Jensen-Shannon distance for numberMediumRating: 0.775909\n",
      "Jensen-Shannon distance for numberHighRating: 0.384463\n",
      "Jensen-Shannon distance for numberMessageRead: 0.284005\n",
      "Jensen-Shannon distance for readAllMessage: 0.159766\n",
      "Jensen-Shannon distance for numberMessageReceived: 0.019570\n",
      "Jensen-Shannon distance for medianRating: 0.769268\n",
      "Mean = 0.4176094903365107 and Std = 0.2997830314174479\n"
     ]
    }
   ],
   "execution_count": 8
  },
  {
   "metadata": {},
   "cell_type": "code",
   "outputs": [],
   "execution_count": null,
   "source": "",
   "id": "cd15163318b3c39e"
  }
 ],
 "metadata": {
  "kernelspec": {
   "display_name": "Python 3",
   "language": "python",
   "name": "python3"
  },
  "language_info": {
   "codemirror_mode": {
    "name": "ipython",
    "version": 2
   },
   "file_extension": ".py",
   "mimetype": "text/x-python",
   "name": "python",
   "nbconvert_exporter": "python",
   "pygments_lexer": "ipython2",
   "version": "2.7.6"
  }
 },
 "nbformat": 4,
 "nbformat_minor": 5
}
