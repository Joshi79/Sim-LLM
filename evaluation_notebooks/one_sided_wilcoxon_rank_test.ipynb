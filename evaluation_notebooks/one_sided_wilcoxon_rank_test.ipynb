{
 "cells": [
  {
   "cell_type": "code",
   "id": "initial_id",
   "metadata": {
    "collapsed": true,
    "ExecuteTime": {
     "end_time": "2025-09-24T08:32:14.964769Z",
     "start_time": "2025-09-24T08:32:10.484724Z"
    }
   },
   "source": [
    "import json\n",
    "import numpy as np\n",
    "from scipy.stats import mannwhitneyu, wilcoxon"
   ],
   "outputs": [],
   "execution_count": 1
  },
  {
   "metadata": {},
   "cell_type": "markdown",
   "source": "",
   "id": "32de96c998105e25"
  },
  {
   "metadata": {},
   "cell_type": "markdown",
   "source": "# Load the sampled FQE values from JSON file",
   "id": "499e0c0c65d321c1"
  },
  {
   "metadata": {
    "ExecuteTime": {
     "end_time": "2025-09-24T08:34:55.790310Z",
     "start_time": "2025-09-24T08:34:55.741066Z"
    }
   },
   "cell_type": "code",
   "source": [
    "file_path = r\"../reports/output_policy_utility/boostrapped_results_fixed_learned_policies.json\"\n",
    "with open(file_path, 'r') as f:\n",
    "    data = json.load(f)\n",
    "    \n",
    "    \n",
    "original_vals = np.asarray(data[\"policies\"][\"original_30\"][\"all_bootstrap_values\"], dtype=float)\n",
    "synthetic_60_vals = np.asarray(data[\"policies\"][\"synthetic_60\"][\"all_bootstrap_values\"], dtype=float)\n",
    "synthetic_100_vals = np.asarray(data[\"policies\"][\"synthetic_100\"][\"all_bootstrap_values\"], dtype=float)\n",
    "merged_vals = np.asarray(data[\"policies\"][\"merged_120\"][\"all_bootstrap_values\"])\n",
    "\n",
    "send_no_message = np.asarray(data[\"policies\"][\"fixed_action_0\"][\"all_bootstrap_values\"], dtype=float)\n",
    "send_encouraging_message = np.asarray(data[\"policies\"][\"fixed_action_1\"][\"all_bootstrap_values\"], dtype=float)  \n",
    "send_informing_message = np.asarray(data[\"policies\"][\"fixed_action_2\"][\"all_bootstrap_values\"], dtype=float)\n",
    "send_affirming_message = np.asarray(data[\"policies\"][\"fixed_action_3\"][\"all_bootstrap_values\"], dtype=float)\n",
    "\n",
    "\n",
    "fixed_policies = {\n",
    "    \"No_Message\": send_no_message,\n",
    "    \"Encouraging\": send_encouraging_message,\n",
    "    \"Informing\": send_informing_message,\n",
    "    \"Affirming\": send_affirming_message\n",
    "}\n",
    "\n",
    "learned_policies = {\n",
    "    \"Original_30\": original_vals,\n",
    "    \"Synthetic_60\": synthetic_60_vals,\n",
    "    \"Synthetic_100\": synthetic_100_vals,\n",
    "    \"Merged_120\": merged_vals\n",
    "}\n",
    "\n",
    "test_100 = {\n",
    "    \"Original_30\": original_vals,\n",
    "    \"Synthetic_60\": synthetic_60_vals,\n",
    "    \"Merged_120\": merged_vals, \n",
    "    \"No_Message\": send_no_message,\n",
    "    \"Encouraging\": send_encouraging_message,\n",
    "    \"Informing\": send_informing_message,\n",
    "    \"Affirming\": send_affirming_message\n",
    "}\n",
    "\n",
    "test_merged = {\n",
    "    \"Original_30\": original_vals,\n",
    "    \"Synthetic_60\": synthetic_60_vals,\n",
    "    \"Synthetic_100\": synthetic_100_vals, \n",
    "    \"No_Message\": send_no_message,\n",
    "    \"Encouraging\": send_encouraging_message,\n",
    "    \"Informing\": send_informing_message,\n",
    "    \"Affirming\": send_affirming_message\n",
    "}\n",
    "\n",
    "synthetic_datasets = {\n",
    "    \"Synthetic_60\": synthetic_60_vals,\n",
    "    \"Synthetic_100\": synthetic_100_vals,\n",
    "    \"Merged_120\": merged_vals\n",
    "}\n",
    "\n",
    "\n"
   ],
   "id": "94c677efd4653241",
   "outputs": [],
   "execution_count": 5
  },
  {
   "metadata": {},
   "cell_type": "markdown",
   "source": "# Test the hypothesis that the learned policies are better than the fixed policies",
   "id": "d9e0fd5db7d16e38"
  },
  {
   "metadata": {
    "ExecuteTime": {
     "end_time": "2025-09-24T08:34:57.037105Z",
     "start_time": "2025-09-24T08:34:56.984794Z"
    }
   },
   "cell_type": "code",
   "source": [
    "wilcoxon_results = {}\n",
    "p_values = []\n",
    "comparisons = []\n",
    "\n",
    "\n",
    "for policy_name, policy_vals in test_100.items():\n",
    "    stat, p = wilcoxon(synthetic_100_vals, policy_vals, alternative='greater')\n",
    "    comp = f\"Synthetic_100 vs {policy_name}\"\n",
    "    wilcoxon_results[comp] = (stat, p)\n",
    "    p_values.append(p)\n",
    "    comparisons.append(comp)\n"
   ],
   "id": "7efb5cd75e4b1bff",
   "outputs": [],
   "execution_count": 6
  },
  {
   "metadata": {
    "ExecuteTime": {
     "end_time": "2025-09-24T08:34:57.759935Z",
     "start_time": "2025-09-24T08:34:57.729602Z"
    }
   },
   "cell_type": "code",
   "source": "wilcoxon_results",
   "id": "422105b7a6cf0f44",
   "outputs": [
    {
     "data": {
      "text/plain": [
       "{'Synthetic_100 vs Original_30': (np.float64(9456.0),\n",
       "  np.float64(5.494534609078448e-13)),\n",
       " 'Synthetic_100 vs Synthetic_60': (np.float64(6434.0),\n",
       "  np.float64(0.07387584335367714)),\n",
       " 'Synthetic_100 vs Merged_120': (np.float64(8810.0),\n",
       "  np.float64(1.758280442090199e-09)),\n",
       " 'Synthetic_100 vs No_Message': (np.float64(8134.0),\n",
       "  np.float64(1.7664364338440894e-06)),\n",
       " 'Synthetic_100 vs Encouraging': (np.float64(10475.0),\n",
       "  np.float64(8.630584139129653e-20)),\n",
       " 'Synthetic_100 vs Informing': (np.float64(7533.0),\n",
       "  np.float64(0.00022447001132576956)),\n",
       " 'Synthetic_100 vs Affirming': (np.float64(6195.0),\n",
       "  np.float64(0.15887372562726187))}"
      ]
     },
     "execution_count": 7,
     "metadata": {},
     "output_type": "execute_result"
    }
   ],
   "execution_count": 7
  },
  {
   "metadata": {
    "ExecuteTime": {
     "end_time": "2025-09-24T08:36:14.898411Z",
     "start_time": "2025-09-24T08:36:14.864003Z"
    }
   },
   "cell_type": "code",
   "source": [
    "# Test the synthetic data policies against the orignal \n",
    "wilcoxon_results_merged = {}\n",
    "p_values_merged = []\n",
    "comparisons_merged = []\n",
    "\n",
    "for policy_name, policy_vals in synthetic_datasets.items():\n",
    "    stat, p = wilcoxon(policy_vals, original_vals, alternative='greater')\n",
    "    comp = f\"{policy_name}vs Orignal Dataset\"\n",
    "    wilcoxon_results_merged[comp] = (stat, p)\n",
    "    p_values_merged.append(p)\n",
    "    comparisons_merged.append(comp)"
   ],
   "id": "a156897901418f80",
   "outputs": [],
   "execution_count": 12
  },
  {
   "metadata": {
    "ExecuteTime": {
     "end_time": "2025-09-24T08:36:15.758699Z",
     "start_time": "2025-09-24T08:36:15.742237Z"
    }
   },
   "cell_type": "code",
   "source": "wilcoxon_results_merged",
   "id": "3e23757df6054abc",
   "outputs": [
    {
     "data": {
      "text/plain": [
       "{'Synthetic_60vs Orignal Dataset': (np.float64(8925.0),\n",
       "  np.float64(4.642749952322167e-10)),\n",
       " 'Synthetic_100vs Orignal Dataset': (np.float64(9456.0),\n",
       "  np.float64(5.494534609078448e-13)),\n",
       " 'Merged_120vs Orignal Dataset': (np.float64(7404.0),\n",
       "  np.float64(0.000542564815474197))}"
      ]
     },
     "execution_count": 13,
     "metadata": {},
     "output_type": "execute_result"
    }
   ],
   "execution_count": 13
  }
 ],
 "metadata": {
  "kernelspec": {
   "display_name": "Python 3",
   "language": "python",
   "name": "python3"
  },
  "language_info": {
   "codemirror_mode": {
    "name": "ipython",
    "version": 2
   },
   "file_extension": ".py",
   "mimetype": "text/x-python",
   "name": "python",
   "nbconvert_exporter": "python",
   "pygments_lexer": "ipython2",
   "version": "2.7.6"
  }
 },
 "nbformat": 4,
 "nbformat_minor": 5
}
