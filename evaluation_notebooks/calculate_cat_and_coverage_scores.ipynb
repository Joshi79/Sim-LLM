{
 "cells": [
  {
   "cell_type": "code",
   "id": "initial_id",
   "metadata": {
    "collapsed": true,
    "ExecuteTime": {
     "end_time": "2025-09-24T13:58:29.256793Z",
     "start_time": "2025-09-24T13:58:06.677414Z"
    }
   },
   "source": [
    "import pandas as pd \n",
    "import numpy as np\n",
    "from typing import Dict\n",
    "from sdmetrics.single_column import CategoryAdherence, BoundaryAdherence"
   ],
   "outputs": [],
   "execution_count": 2
  },
  {
   "metadata": {
    "ExecuteTime": {
     "end_time": "2025-09-24T14:14:01.816552Z",
     "start_time": "2025-09-24T14:14:01.592245Z"
    }
   },
   "cell_type": "code",
   "source": [
    "original_data_splits = \"../data/original_training_dataset.csv\"\n",
    "real_test_path = \"../data/test_df.csv\"\n",
    "\n",
    "baseline_synthetic = \"../data/synthetic_data_baseline_prompt.csv\"\n",
    "synthetic_data_no_grounding_synthetic = \"../data/prompt_not_grounded_in_synthetic.csv\"\n",
    "synthetic_data_no_info = \"../data/prompt_no_info_orignal_data.csv\"\n",
    "\n",
    "\n",
    "categorical_cols = [\n",
    "            'numberRating', 'highestRating', 'lowestRating','medianRating'\n",
    "            'numberLowRating', 'numberMediumRating', 'numberHighRating',\n",
    "            'numberMessageRead', 'readAllMessage', 'numberMessageReceived', \n",
    "        ]\n",
    "\n",
    "continuous_cols = ['sdRating']\n",
    "\n",
    "# all columns \n",
    "all_columns = categorical_cols + continuous_cols\n",
    "\n",
    "\n",
    "synthetic_df = pd.read_csv(baseline_synthetic)\n",
    "synthetic_df_no_orignal_inofs = pd.read_csv(synthetic_data_no_info)\n",
    "synthetic_df_no_grounding = pd.read_csv(synthetic_data_no_grounding_synthetic)\n",
    "\n",
    "real_df_test = pd.read_csv(real_test_path)"
   ],
   "id": "cb8536e95d85c740",
   "outputs": [],
   "execution_count": 10
  },
  {
   "metadata": {},
   "cell_type": "markdown",
   "source": "## Boundary check",
   "id": "51684fa9890a4a4"
  },
  {
   "metadata": {
    "ExecuteTime": {
     "end_time": "2025-09-24T14:14:03.822917Z",
     "start_time": "2025-09-24T14:14:03.798252Z"
    }
   },
   "cell_type": "code",
   "source": [
    "def boundary_adherence(real_df,synthetic_df,categorical_cols,continuous_cols):\n",
    "    \"\"\"\n",
    "    Checks the boundry adherence for categorical and continuous columns.\n",
    "    \"\"\"\n",
    "    results = {}\n",
    "\n",
    "    for col in categorical_cols:\n",
    "        if col in real_df.columns and col in synthetic_df.columns:\n",
    "            category_score = CategoryAdherence.compute(\n",
    "                real_data=real_df[col],\n",
    "                synthetic_data=synthetic_df[col]\n",
    "            )\n",
    "            results[f\"{col}_coverage\"] = category_score\n",
    "\n",
    "    for col in continuous_cols:\n",
    "        if col in real_df.columns and col in synthetic_df.columns:\n",
    "            boundary_score = BoundaryAdherence.compute(\n",
    "                real_data=real_df[col],\n",
    "                synthetic_data=synthetic_df[col]\n",
    "            )\n",
    "            results[f\"{col}_boundary_conformity\"] = boundary_score\n",
    "\n",
    "    return results"
   ],
   "id": "969967e01421dc1e",
   "outputs": [],
   "execution_count": 11
  },
  {
   "metadata": {
    "ExecuteTime": {
     "end_time": "2025-09-24T14:14:05.059201Z",
     "start_time": "2025-09-24T14:14:04.998636Z"
    }
   },
   "cell_type": "code",
   "source": [
    "# Calculate boundary adherence for different synthetic datasets\n",
    "results_with_original = boundary_adherence(real_df_test, synthetic_df, categorical_cols, continuous_cols)\n",
    "results_no_info = boundary_adherence(real_df_test, synthetic_df_no_orignal_inofs, categorical_cols, continuous_cols)\n",
    "results_no_grounding = boundary_adherence(real_df_test, synthetic_df_no_grounding, categorical_cols, continuous_cols)\n",
    "\n"
   ],
   "id": "94d5df40dbd5ed5f",
   "outputs": [],
   "execution_count": 12
  },
  {
   "metadata": {},
   "cell_type": "markdown",
   "source": "# Calculate the CAT score",
   "id": "f819fb33ffdd5b8c"
  },
  {
   "metadata": {
    "ExecuteTime": {
     "end_time": "2025-09-24T14:16:22.437045Z",
     "start_time": "2025-09-24T14:16:22.419150Z"
    }
   },
   "cell_type": "code",
   "source": [
    "def cat_score_exact(real_df,syn_df,cat_cols):\n",
    "    \"\"\"\n",
    "    Calcualate the CAT score\n",
    "    \"\"\"\n",
    "    rows = []\n",
    "\n",
    "    for col in cat_cols:\n",
    "        if col not in real_df.columns or col not in syn_df.columns:\n",
    "            rows.append({\n",
    "                \"column\": col,\n",
    "                \"real_n_classes\": np.nan,\n",
    "                \"syn_n_classes\": np.nan,\n",
    "                \"ratio_|D_syn|/|D_real|\": np.nan,\n",
    "                \"note\": \"missing in one of the DataFrames\"\n",
    "            })\n",
    "            continue\n",
    "\n",
    "        r = real_df[col]\n",
    "        s = syn_df[col]\n",
    "\n",
    "        \n",
    "        \n",
    "        real_n = r.dropna().nunique()\n",
    "        syn_n  = s.dropna().nunique()\n",
    "            \n",
    "        ratio = (syn_n / real_n) if real_n not in (0, np.nan) and real_n != 0 else np.nan\n",
    "        \n",
    "\n",
    "        rows.append({\n",
    "            \"column\": col,\n",
    "            \"real_n_classes\": int(real_n) if pd.notna(real_n) else np.nan,\n",
    "            \"syn_n_classes\": int(syn_n) if pd.notna(syn_n) else np.nan,\n",
    "            \"ratio_|D_syn|/|D_real|\": ratio,\n",
    "            \"note\": \"\"\n",
    "        })\n",
    "\n",
    "    details_df = pd.DataFrame(rows).sort_values(\"column\").reset_index(drop=True)\n",
    "    cat_overall = float(details_df[\"ratio_|D_syn|/|D_real|\"].mean(skipna=True)) if not details_df.empty else np.nan\n",
    "    return cat_overall, details_df\n"
   ],
   "id": "3031f6e291db4592",
   "outputs": [],
   "execution_count": 15
  },
  {
   "metadata": {
    "ExecuteTime": {
     "end_time": "2025-09-24T14:00:15.799057Z",
     "start_time": "2025-09-24T14:00:15.732006Z"
    }
   },
   "cell_type": "code",
   "source": [
    "cat_overall_synthetic, per_col_syn = cat_score_exact(real_df_test, synthetic_df, categorical_cols)\n",
    "cat_overal_synthetic_no_info, per_col_no_info= cat_score_exact(real_df_test, synthetic_df_no_orignal_inofs, categorical_cols)\n",
    "cat_overal_synthetic_no_grounding, per_col_no_grounding = cat_score_exact(real_df_test, synthetic_df_no_grounding, categorical_cols)\n"
   ],
   "id": "ce168a0d7e77010b",
   "outputs": [],
   "execution_count": 5
  }
 ],
 "metadata": {
  "kernelspec": {
   "display_name": "Python 3",
   "language": "python",
   "name": "python3"
  },
  "language_info": {
   "codemirror_mode": {
    "name": "ipython",
    "version": 2
   },
   "file_extension": ".py",
   "mimetype": "text/x-python",
   "name": "python",
   "nbconvert_exporter": "python",
   "pygments_lexer": "ipython2",
   "version": "2.7.6"
  }
 },
 "nbformat": 4,
 "nbformat_minor": 5
}
