{
 "cells": [
  {
   "cell_type": "code",
   "id": "initial_id",
   "metadata": {
    "collapsed": true,
    "ExecuteTime": {
     "end_time": "2025-09-20T07:24:58.683198Z",
     "start_time": "2025-09-20T07:24:39.009419Z"
    }
   },
   "source": [
    "import pandas as pd \n",
    "import numpy as np\n",
    "from typing import Dict\n",
    "from sdmetrics.single_column import CategoryAdherence, BoundaryAdherence"
   ],
   "outputs": [],
   "execution_count": 3
  },
  {
   "metadata": {
    "ExecuteTime": {
     "end_time": "2025-09-20T07:25:22.364447Z",
     "start_time": "2025-09-20T07:25:22.134465Z"
    }
   },
   "cell_type": "code",
   "source": [
    "original_data_splits = r\"C:\\Users\\User\\PycharmProjects\\master_thesis\\simulation_data\\final_run_data_preparation\\data_splits\\original_training_dataset.csv\"\n",
    "real_test_path = r\"C:\\Users\\User\\PycharmProjects\\master_thesis\\simulation_data\\final_run_data_preparation\\data_splits\\test_df.csv\"\n",
    "\n",
    "synthetic_path=r\"C:\\Users\\User\\PycharmProjects\\master_thesis\\simulation_data\\final_data_evaluation\\create_plots\\evaluation_results\\fully_fixed_data.csv\"\n",
    "\n",
    "\n",
    "\n",
    "synthetic_data_no_grounding= r\"C:\\Users\\User\\PycharmProjects\\master_thesis\\simulation_data\\final_data_evaluation\\create_plots\\evaluation_results\\fully_fixed_data_not_grounded_synthetic.csv\"\n",
    "\n",
    "synthetic_new_no_info = r\"C:\\Users\\User\\PycharmProjects\\master_thesis\\simulation_data\\final_data_evaluation\\create_plots\\evaluation_results\\fully_fixed_data_no_info_new.csv\"\n",
    "\n",
    "\n",
    "\n",
    "categorical_cols = [\n",
    "            'numberRating', 'highestRating', 'lowestRating',\n",
    "            'numberLowRating', 'numberMediumRating', 'numberHighRating',\n",
    "            'numberMessageRead', 'readAllMessage', 'numberMessageReceived', \n",
    "        ]\n",
    "\n",
    "continuous_cols = ['sdRating','medianRating']\n",
    "\n",
    "# all columns \n",
    "all_columns = categorical_cols + continuous_cols\n",
    "\n",
    "\n",
    "synthetic_df = pd.read_csv(synthetic_path)\n",
    "synthetic_df_no_orignal_inofs = pd.read_csv(synthetic_new_no_info)\n",
    "synthetic_df_no_grounding = pd.read_csv(synthetic_data_no_grounding)\n",
    "\n",
    "real_df_original = pd.read_csv(original_data_splits)\n",
    "real_df_test = pd.read_csv(real_test_path)"
   ],
   "id": "cb8536e95d85c740",
   "outputs": [],
   "execution_count": 4
  },
  {
   "metadata": {},
   "cell_type": "markdown",
   "source": "## Boundary check",
   "id": "51684fa9890a4a4"
  },
  {
   "metadata": {
    "ExecuteTime": {
     "end_time": "2025-09-20T07:25:24.375459Z",
     "start_time": "2025-09-20T07:25:24.351243Z"
    }
   },
   "cell_type": "code",
   "source": [
    "from typing import Dict\n",
    "from sdmetrics.single_column import CategoryAdherence, BoundaryAdherence\n",
    "\n",
    "def boundary_adherence(\n",
    "    real_df,\n",
    "    synthetic_df,\n",
    "    categorical_cols,\n",
    "    continuous_cols\n",
    ") -> Dict[str, float]:\n",
    "    \"\"\"\n",
    "    Prüft, ob die synthetischen Daten die Grenzen der echten Daten respektieren.\n",
    "    Nutzt Coverage Score für kategoriale und Boundary Conformity für kontinuierliche Variablen.\n",
    "    \"\"\"\n",
    "    results = {}\n",
    "\n",
    "    # Kategoriale Variablen\n",
    "    for col in categorical_cols:\n",
    "        if col in real_df.columns and col in synthetic_df.columns:\n",
    "            category_score = CategoryAdherence.compute(\n",
    "                real_data=real_df[col],\n",
    "                synthetic_data=synthetic_df[col]\n",
    "            )\n",
    "            results[f\"{col}_coverage\"] = category_score\n",
    "\n",
    "    # Kontinuierliche Variablen\n",
    "    for col in continuous_cols:\n",
    "        if col in real_df.columns and col in synthetic_df.columns:\n",
    "            boundary_score = BoundaryAdherence.compute(\n",
    "                real_data=real_df[col],\n",
    "                synthetic_data=synthetic_df[col]\n",
    "            )\n",
    "            results[f\"{col}_boundary_conformity\"] = boundary_score\n",
    "\n",
    "    return results\n",
    "\n"
   ],
   "id": "969967e01421dc1e",
   "outputs": [],
   "execution_count": 5
  },
  {
   "metadata": {
    "ExecuteTime": {
     "end_time": "2025-09-20T07:26:17.504759Z",
     "start_time": "2025-09-20T07:26:17.436624Z"
    }
   },
   "cell_type": "code",
   "source": [
    "# Calculate boundary adherence for different synthetic datasets\n",
    "results_with_original = boundary_adherence(real_df_test, synthetic_df, categorical_cols, continuous_cols)\n",
    "results_no_info = boundary_adherence(real_df_test, synthetic_df_no_orignal_inofs, categorical_cols, continuous_cols)\n",
    "results_no_grounding = boundary_adherence(real_df_test, synthetic_df_no_grounding, categorical_cols, continuous_cols)\n",
    "\n"
   ],
   "id": "94d5df40dbd5ed5f",
   "outputs": [],
   "execution_count": 12
  },
  {
   "metadata": {
    "ExecuteTime": {
     "end_time": "2025-09-20T07:26:31.186226Z",
     "start_time": "2025-09-20T07:26:31.159152Z"
    }
   },
   "cell_type": "code",
   "source": "results_no_grounding",
   "id": "ef78b55bcb333af1",
   "outputs": [
    {
     "data": {
      "text/plain": [
       "{'numberRating_coverage': np.float64(1.0),\n",
       " 'highestRating_coverage': np.float64(1.0),\n",
       " 'lowestRating_coverage': np.float64(1.0),\n",
       " 'numberLowRating_coverage': np.float64(1.0),\n",
       " 'numberMediumRating_coverage': np.float64(1.0),\n",
       " 'numberHighRating_coverage': np.float64(1.0),\n",
       " 'numberMessageRead_coverage': np.float64(1.0),\n",
       " 'readAllMessage_coverage': np.float64(1.0),\n",
       " 'numberMessageReceived_coverage': np.float64(1.0),\n",
       " 'sdRating_boundary_conformity': np.float64(1.0),\n",
       " 'medianRating_boundary_conformity': np.float64(1.0)}"
      ]
     },
     "execution_count": 15,
     "metadata": {},
     "output_type": "execute_result"
    }
   ],
   "execution_count": 15
  },
  {
   "metadata": {},
   "cell_type": "markdown",
   "source": "# Calculate the CAT score",
   "id": "f819fb33ffdd5b8c"
  },
  {
   "metadata": {
    "ExecuteTime": {
     "end_time": "2025-09-20T07:26:36.349812Z",
     "start_time": "2025-09-20T07:26:36.324900Z"
    }
   },
   "cell_type": "code",
   "source": [
    "def calculate_cat_score(real_df, synthetic_df, categorical_cols) -> float:\n",
    "    \"\"\"\n",
    "    CAT: category coverage across categorical variables.\n",
    "    Für jede kategoriale Spalte u:\n",
    "      coverage_u = | C_syn(u) ∩ C_real(u) | / | C_real(u) |\n",
    "    CAT = Durchschnitt aller coverage_u\n",
    "    \"\"\"\n",
    "    cat_scores = []\n",
    "\n",
    "    for col in categorical_cols:\n",
    "        if col in real_df.columns and col in synthetic_df.columns:\n",
    "            real_vals = real_df[col].dropna()\n",
    "            syn_vals = synthetic_df[col].dropna()\n",
    "\n",
    "            real_cats = set(real_vals.unique())\n",
    "            if not real_cats:\n",
    "                continue  \n",
    "\n",
    "            syn_cats = set(syn_vals.unique())\n",
    "            coverage = len(real_cats & syn_cats) / len(real_cats)\n",
    "            cat_scores.append(coverage)\n",
    "\n",
    "    return float(np.mean(cat_scores)) if cat_scores else 0.0\n"
   ],
   "id": "cce4ff7b5f3ee9da",
   "outputs": [],
   "execution_count": 16
  },
  {
   "metadata": {
    "ExecuteTime": {
     "end_time": "2025-09-20T07:27:14.498545Z",
     "start_time": "2025-09-20T07:27:14.443614Z"
    }
   },
   "cell_type": "code",
   "source": [
    "import pandas as pd\n",
    "import numpy as np\n",
    "\n",
    "def cat_score_exact(real_df: pd.DataFrame,\n",
    "                    syn_df: pd.DataFrame,\n",
    "                    cat_cols: list) -> (float, pd.DataFrame):\n",
    "    \"\"\"\n",
    "    CAT = (1/J) * sum_j |D_syn^j| / |D_real^j|\n",
    "    where D_*^j are the sets of distinct observed categories in column j.\n",
    "\n",
    "    Parameters\n",
    "    ----------\n",
    "    real_df : DataFrame (real data)\n",
    "    syn_df  : DataFrame (synthetic data)\n",
    "    cat_cols: list of column names to evaluate (binary/categorical variables)\n",
    "    include_na : if True, treat NaN as a category; else exclude NaN\n",
    "\n",
    "    Returns\n",
    "    -------\n",
    "    cat_overall : float (mean over columns with finite denominators)\n",
    "    details_df  : per-column breakdown with |D_real|, |D_syn|, and ratio\n",
    "    \"\"\"\n",
    "    rows = []\n",
    "\n",
    "    for col in cat_cols:\n",
    "        if col not in real_df.columns or col not in syn_df.columns:\n",
    "            rows.append({\n",
    "                \"column\": col,\n",
    "                \"real_n_classes\": np.nan,\n",
    "                \"syn_n_classes\": np.nan,\n",
    "                \"ratio_|D_syn|/|D_real|\": np.nan,\n",
    "                \"note\": \"missing in one of the DataFrames\"\n",
    "            })\n",
    "            continue\n",
    "\n",
    "        r = real_df[col]\n",
    "        s = syn_df[col]\n",
    "\n",
    "        \n",
    "        \n",
    "        real_n = r.dropna().nunique()\n",
    "        syn_n  = s.dropna().nunique()\n",
    "            \n",
    "        ratio = (syn_n / real_n) if real_n not in (0, np.nan) and real_n != 0 else np.nan\n",
    "        \n",
    "\n",
    "        rows.append({\n",
    "            \"column\": col,\n",
    "            \"real_n_classes\": int(real_n) if pd.notna(real_n) else np.nan,\n",
    "            \"syn_n_classes\": int(syn_n) if pd.notna(syn_n) else np.nan,\n",
    "            \"ratio_|D_syn|/|D_real|\": ratio,\n",
    "            \"note\": \"\"\n",
    "        })\n",
    "\n",
    "    details_df = pd.DataFrame(rows).sort_values(\"column\").reset_index(drop=True)\n",
    "    cat_overall = float(details_df[\"ratio_|D_syn|/|D_real|\"].mean(skipna=True)) if not details_df.empty else np.nan\n",
    "    return cat_overall, details_df\n",
    "\n",
    "\n",
    "cat_overall, per_col = cat_score_exact(real_df_original, synthetic_df, categorical_cols)\n",
    "\n"
   ],
   "id": "3031f6e291db4592",
   "outputs": [],
   "execution_count": 22
  },
  {
   "metadata": {
    "ExecuteTime": {
     "end_time": "2025-09-20T07:27:16.008401Z",
     "start_time": "2025-09-20T07:27:15.932591Z"
    }
   },
   "cell_type": "code",
   "source": [
    "cat_overall_synthetic, per_col_syn = cat_score_exact(real_df_test, synthetic_df, categorical_cols)\n",
    "cat_overal_synthetic_no_info, per_col_no_info= cat_score_exact(real_df_test, synthetic_df_no_orignal_inofs, categorical_cols)\n",
    "cat_overal_synthetic_no_grounding, per_col_no_grounding = cat_score_exact(real_df_test, synthetic_df_no_grounding, categorical_cols)\n"
   ],
   "id": "ce168a0d7e77010b",
   "outputs": [],
   "execution_count": 23
  },
  {
   "metadata": {
    "ExecuteTime": {
     "end_time": "2025-09-20T07:27:16.832250Z",
     "start_time": "2025-09-20T07:27:16.821385Z"
    }
   },
   "cell_type": "code",
   "source": "cat_overall_synthetic",
   "id": "3606924946beb0b0",
   "outputs": [
    {
     "data": {
      "text/plain": [
       "0.8490740740740742"
      ]
     },
     "execution_count": 24,
     "metadata": {},
     "output_type": "execute_result"
    }
   ],
   "execution_count": 24
  },
  {
   "metadata": {
    "ExecuteTime": {
     "end_time": "2025-09-20T07:27:18.126838Z",
     "start_time": "2025-09-20T07:27:18.115762Z"
    }
   },
   "cell_type": "code",
   "source": "cat_overal_synthetic_no_info",
   "id": "f30c6c2dcac5431d",
   "outputs": [
    {
     "data": {
      "text/plain": [
       "0.6324074074074074"
      ]
     },
     "execution_count": 25,
     "metadata": {},
     "output_type": "execute_result"
    }
   ],
   "execution_count": 25
  },
  {
   "metadata": {
    "ExecuteTime": {
     "end_time": "2025-09-20T07:27:21.587698Z",
     "start_time": "2025-09-20T07:27:21.569963Z"
    }
   },
   "cell_type": "code",
   "source": "cat_overal_synthetic_no_grounding\n",
   "id": "1a0e9d317d24f174",
   "outputs": [
    {
     "data": {
      "text/plain": [
       "0.6824074074074074"
      ]
     },
     "execution_count": 26,
     "metadata": {},
     "output_type": "execute_result"
    }
   ],
   "execution_count": 26
  },
  {
   "metadata": {
    "ExecuteTime": {
     "end_time": "2025-09-19T11:00:12.382816Z",
     "start_time": "2025-09-19T11:00:12.360880Z"
    }
   },
   "cell_type": "code",
   "source": [
    "array = [0.375000,0.250000,0.250000,0.200000,1.00000,1.000000, 1.000000,1.000000,1.000000]\n",
    "np.mean(array)\n"
   ],
   "id": "6d24d5b8bb88272e",
   "outputs": [
    {
     "data": {
      "text/plain": [
       "np.float64(0.675)"
      ]
     },
     "execution_count": 96,
     "metadata": {},
     "output_type": "execute_result"
    }
   ],
   "execution_count": 96
  },
  {
   "metadata": {
    "ExecuteTime": {
     "end_time": "2025-09-20T12:40:28.112517Z",
     "start_time": "2025-09-20T12:40:27.866353Z"
    }
   },
   "cell_type": "code",
   "source": "synthetic_df[\"medianRating\"].median()",
   "id": "71a4a9c130a70181",
   "outputs": [
    {
     "data": {
      "text/plain": [
       "np.float64(4.0)"
      ]
     },
     "execution_count": 28,
     "metadata": {},
     "output_type": "execute_result"
    }
   ],
   "execution_count": 28
  },
  {
   "metadata": {},
   "cell_type": "code",
   "outputs": [],
   "execution_count": null,
   "source": "",
   "id": "9c3511d5469559b0"
  }
 ],
 "metadata": {
  "kernelspec": {
   "display_name": "Python 3",
   "language": "python",
   "name": "python3"
  },
  "language_info": {
   "codemirror_mode": {
    "name": "ipython",
    "version": 2
   },
   "file_extension": ".py",
   "mimetype": "text/x-python",
   "name": "python",
   "nbconvert_exporter": "python",
   "pygments_lexer": "ipython2",
   "version": "2.7.6"
  }
 },
 "nbformat": 4,
 "nbformat_minor": 5
}
