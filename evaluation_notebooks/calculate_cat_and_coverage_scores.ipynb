{
 "cells": [
  {
   "cell_type": "code",
   "id": "initial_id",
   "metadata": {
    "collapsed": true,
    "ExecuteTime": {
     "end_time": "2025-09-28T21:13:32.659386Z",
     "start_time": "2025-09-28T21:13:02.299401Z"
    }
   },
   "source": [
    "import pandas as pd \n",
    "import numpy as np\n",
    "from typing import Dict\n",
    "from sdmetrics.single_column import CategoryAdherence, BoundaryAdherence"
   ],
   "outputs": [],
   "execution_count": 1
  },
  {
   "metadata": {},
   "cell_type": "markdown",
   "source": "# Load the data",
   "id": "85dd32acf451e7b6"
  },
  {
   "metadata": {
    "ExecuteTime": {
     "end_time": "2025-09-28T21:13:32.857004Z",
     "start_time": "2025-09-28T21:13:32.664369Z"
    }
   },
   "cell_type": "code",
   "source": [
    "original_data_splits = \"../data/original_training_dataset.csv\"\n",
    "real_test_path = \"../data/test_df.csv\"\n",
    "\n",
    "baseline_synthetic = \"../data/synthetic_data_baseline_prompt.csv\"\n",
    "synthetic_data_no_grounding_synthetic = \"../data/prompt_not_grounded_in_synthetic.csv\"\n",
    "synthetic_data_no_info = \"../data/prompt_no_info_orignal_data.csv\"\n",
    "\n",
    "\n",
    "categorical_cols = [\n",
    "            'numberRating', 'highestRating', 'lowestRating','medianRating'\n",
    "            'numberLowRating', 'numberMediumRating', 'numberHighRating',\n",
    "            'numberMessageRead', 'readAllMessage', 'numberMessageReceived', \n",
    "        ]\n",
    "\n",
    "continuous_cols = ['sdRating']\n",
    "\n",
    "# all columns \n",
    "all_columns = categorical_cols + continuous_cols\n",
    "\n",
    "\n",
    "synthetic_df = pd.read_csv(baseline_synthetic)\n",
    "synthetic_df_no_orignal_inofs = pd.read_csv(synthetic_data_no_info)\n",
    "synthetic_df_no_grounding = pd.read_csv(synthetic_data_no_grounding_synthetic)\n",
    "\n",
    "real_df_training = pd.read_csv(original_data_splits)\n",
    "real_df_test = pd.read_csv(real_test_path)"
   ],
   "id": "cb8536e95d85c740",
   "outputs": [],
   "execution_count": 2
  },
  {
   "metadata": {},
   "cell_type": "markdown",
   "source": "## Boundary check",
   "id": "51684fa9890a4a4"
  },
  {
   "metadata": {
    "ExecuteTime": {
     "end_time": "2025-09-27T19:11:42.975447Z",
     "start_time": "2025-09-27T19:11:42.954948Z"
    }
   },
   "cell_type": "code",
   "source": [
    "def boundary_adherence(real_df,synthetic_df,categorical_cols,continuous_cols):\n",
    "    \"\"\"\n",
    "    Checks the boundry adherence for categorical and continuous columns.\n",
    "    \"\"\"\n",
    "    results = {}\n",
    "\n",
    "    for col in categorical_cols:\n",
    "        if col in real_df.columns and col in synthetic_df.columns:\n",
    "            category_score = CategoryAdherence.compute(\n",
    "                real_data=real_df[col],\n",
    "                synthetic_data=synthetic_df[col]\n",
    "            )\n",
    "            results[f\"{col}_coverage\"] = category_score\n",
    "\n",
    "    for col in continuous_cols:\n",
    "        if col in real_df.columns and col in synthetic_df.columns:\n",
    "            boundary_score = BoundaryAdherence.compute(\n",
    "                real_data=real_df[col],\n",
    "                synthetic_data=synthetic_df[col]\n",
    "            )\n",
    "            results[f\"{col}_boundary_conformity\"] = boundary_score\n",
    "\n",
    "    return results"
   ],
   "id": "969967e01421dc1e",
   "outputs": [],
   "execution_count": 4
  },
  {
   "metadata": {
    "ExecuteTime": {
     "end_time": "2025-09-27T19:11:43.051725Z",
     "start_time": "2025-09-27T19:11:42.983438Z"
    }
   },
   "cell_type": "code",
   "source": [
    "# Calculate boundary adherence for different synthetic datasets\n",
    "results_with_original = boundary_adherence(real_df_test, synthetic_df, categorical_cols, continuous_cols)\n",
    "results_no_info = boundary_adherence(real_df_test, synthetic_df_no_orignal_inofs, categorical_cols, continuous_cols)\n",
    "results_no_grounding = boundary_adherence(real_df_test, synthetic_df_no_grounding, categorical_cols, continuous_cols)"
   ],
   "id": "94d5df40dbd5ed5f",
   "outputs": [],
   "execution_count": 5
  },
  {
   "metadata": {},
   "cell_type": "markdown",
   "source": "# Calculate the CAT score",
   "id": "f819fb33ffdd5b8c"
  },
  {
   "metadata": {
    "ExecuteTime": {
     "end_time": "2025-09-28T21:13:32.878271Z",
     "start_time": "2025-09-28T21:13:32.860439Z"
    }
   },
   "cell_type": "code",
   "source": [
    "def cat_score_exact(real_df,syn_df,cat_cols):\n",
    "    \"\"\"\n",
    "    Calcualate the CAT score\n",
    "    \"\"\"\n",
    "    rows = []\n",
    "\n",
    "    for col in cat_cols:\n",
    "        if col not in real_df.columns or col not in syn_df.columns:\n",
    "            rows.append({\n",
    "                \"column\": col,\n",
    "                \"real_n_classes\": np.nan,\n",
    "                \"syn_n_classes\": np.nan,\n",
    "                \"ratio_|D_syn|/|D_real|\": np.nan,\n",
    "                \"note\": \"missing in one of the DataFrames\"\n",
    "            })\n",
    "            continue\n",
    "\n",
    "        r = real_df[col]\n",
    "        s = syn_df[col]\n",
    "\n",
    "        \n",
    "        \n",
    "        real_n = r.dropna().nunique()\n",
    "        syn_n  = s.dropna().nunique()\n",
    "            \n",
    "        ratio = (syn_n / real_n) if real_n not in (0, np.nan) and real_n != 0 else np.nan\n",
    "        \n",
    "\n",
    "        rows.append({\n",
    "            \"column\": col,\n",
    "            \"real_n_classes\": int(real_n) if pd.notna(real_n) else np.nan,\n",
    "            \"syn_n_classes\": int(syn_n) if pd.notna(syn_n) else np.nan,\n",
    "            \"ratio_|D_syn|/|D_real|\": ratio,\n",
    "            \"note\": \"\"\n",
    "        })\n",
    "\n",
    "    details_df = pd.DataFrame(rows).sort_values(\"column\").reset_index(drop=True)\n",
    "    cat_overall = float(details_df[\"ratio_|D_syn|/|D_real|\"].mean(skipna=True)) if not details_df.empty else np.nan\n",
    "    return cat_overall, details_df"
   ],
   "id": "3031f6e291db4592",
   "outputs": [],
   "execution_count": 3
  },
  {
   "metadata": {
    "ExecuteTime": {
     "end_time": "2025-09-28T21:13:32.936951Z",
     "start_time": "2025-09-28T21:13:32.884233Z"
    }
   },
   "cell_type": "code",
   "source": [
    "cat_overall_synthetic, per_col_syn = cat_score_exact(real_df_test, synthetic_df, categorical_cols)\n",
    "cat_overal_synthetic_no_info, per_col_no_info= cat_score_exact(real_df_test, synthetic_df_no_orignal_inofs, categorical_cols)\n",
    "cat_overal_synthetic_no_grounding, per_col_no_grounding = cat_score_exact(real_df_test, synthetic_df_no_grounding, categorical_cols)\n"
   ],
   "id": "ce168a0d7e77010b",
   "outputs": [],
   "execution_count": 4
  }
 ],
 "metadata": {
  "kernelspec": {
   "display_name": "Python 3",
   "language": "python",
   "name": "python3"
  },
  "language_info": {
   "codemirror_mode": {
    "name": "ipython",
    "version": 2
   },
   "file_extension": ".py",
   "mimetype": "text/x-python",
   "name": "python",
   "nbconvert_exporter": "python",
   "pygments_lexer": "ipython2",
   "version": "2.7.6"
  }
 },
 "nbformat": 4,
 "nbformat_minor": 5
}
